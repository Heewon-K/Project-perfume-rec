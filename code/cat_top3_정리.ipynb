{
 "cells": [
  {
   "cell_type": "code",
   "execution_count": 1,
   "metadata": {},
   "outputs": [],
   "source": [
    "import pandas as pd"
   ]
  },
  {
   "cell_type": "code",
   "execution_count": 3,
   "metadata": {},
   "outputs": [
    {
     "data": {
      "text/html": [
       "<div>\n",
       "<style scoped>\n",
       "    .dataframe tbody tr th:only-of-type {\n",
       "        vertical-align: middle;\n",
       "    }\n",
       "\n",
       "    .dataframe tbody tr th {\n",
       "        vertical-align: top;\n",
       "    }\n",
       "\n",
       "    .dataframe thead th {\n",
       "        text-align: right;\n",
       "    }\n",
       "</style>\n",
       "<table border=\"1\" class=\"dataframe\">\n",
       "  <thead>\n",
       "    <tr style=\"text-align: right;\">\n",
       "      <th></th>\n",
       "      <th>pk</th>\n",
       "      <th>model</th>\n",
       "      <th>name</th>\n",
       "      <th>logoimg</th>\n",
       "    </tr>\n",
       "  </thead>\n",
       "  <tbody>\n",
       "    <tr>\n",
       "      <th>0</th>\n",
       "      <td>1</td>\n",
       "      <td>perfumes.brand</td>\n",
       "      <td>&amp;OtherStories</td>\n",
       "      <td>NaN</td>\n",
       "    </tr>\n",
       "    <tr>\n",
       "      <th>1</th>\n",
       "      <td>2</td>\n",
       "      <td>perfumes.brand</td>\n",
       "      <td>06130ZéroSixCent-Trente</td>\n",
       "      <td>NaN</td>\n",
       "    </tr>\n",
       "    <tr>\n",
       "      <th>2</th>\n",
       "      <td>3</td>\n",
       "      <td>perfumes.brand</td>\n",
       "      <td>10CorsoComo</td>\n",
       "      <td>NaN</td>\n",
       "    </tr>\n",
       "  </tbody>\n",
       "</table>\n",
       "</div>"
      ],
      "text/plain": [
       "   pk           model                     name  logoimg\n",
       "0   1  perfumes.brand            &OtherStories      NaN\n",
       "1   2  perfumes.brand  06130ZéroSixCent-Trente      NaN\n",
       "2   3  perfumes.brand              10CorsoComo      NaN"
      ]
     },
     "execution_count": 3,
     "metadata": {},
     "output_type": "execute_result"
    }
   ],
   "source": [
    "brand = pd.read_csv('../json파일/과정/brand.csv')\n",
    "brand.head(3)"
   ]
  },
  {
   "cell_type": "code",
   "execution_count": 4,
   "metadata": {},
   "outputs": [
    {
     "data": {
      "text/html": [
       "<div>\n",
       "<style scoped>\n",
       "    .dataframe tbody tr th:only-of-type {\n",
       "        vertical-align: middle;\n",
       "    }\n",
       "\n",
       "    .dataframe tbody tr th {\n",
       "        vertical-align: top;\n",
       "    }\n",
       "\n",
       "    .dataframe thead th {\n",
       "        text-align: right;\n",
       "    }\n",
       "</style>\n",
       "<table border=\"1\" class=\"dataframe\">\n",
       "  <thead>\n",
       "    <tr style=\"text-align: right;\">\n",
       "      <th></th>\n",
       "      <th>pk</th>\n",
       "      <th>name</th>\n",
       "    </tr>\n",
       "  </thead>\n",
       "  <tbody>\n",
       "    <tr>\n",
       "      <th>0</th>\n",
       "      <td>1</td>\n",
       "      <td>&amp;OtherStories</td>\n",
       "    </tr>\n",
       "    <tr>\n",
       "      <th>1</th>\n",
       "      <td>2</td>\n",
       "      <td>06130ZéroSixCent-Trente</td>\n",
       "    </tr>\n",
       "    <tr>\n",
       "      <th>2</th>\n",
       "      <td>3</td>\n",
       "      <td>10CorsoComo</td>\n",
       "    </tr>\n",
       "    <tr>\n",
       "      <th>3</th>\n",
       "      <td>4</td>\n",
       "      <td>10PercentConsumerProducts</td>\n",
       "    </tr>\n",
       "    <tr>\n",
       "      <th>4</th>\n",
       "      <td>5</td>\n",
       "      <td>1000Flowers</td>\n",
       "    </tr>\n",
       "    <tr>\n",
       "      <th>...</th>\n",
       "      <td>...</td>\n",
       "      <td>...</td>\n",
       "    </tr>\n",
       "    <tr>\n",
       "      <th>3251</th>\n",
       "      <td>3252</td>\n",
       "      <td>vonEusersdorff</td>\n",
       "    </tr>\n",
       "    <tr>\n",
       "      <th>3252</th>\n",
       "      <td>3253</td>\n",
       "      <td>vonSierstorpff</td>\n",
       "    </tr>\n",
       "    <tr>\n",
       "      <th>3253</th>\n",
       "      <td>3254</td>\n",
       "      <td>ÁguadeCheiro</td>\n",
       "    </tr>\n",
       "    <tr>\n",
       "      <th>3254</th>\n",
       "      <td>3255</td>\n",
       "      <td>ÉditionsM.R</td>\n",
       "    </tr>\n",
       "    <tr>\n",
       "      <th>3255</th>\n",
       "      <td>3256</td>\n",
       "      <td>Élisire</td>\n",
       "    </tr>\n",
       "  </tbody>\n",
       "</table>\n",
       "<p>3256 rows × 2 columns</p>\n",
       "</div>"
      ],
      "text/plain": [
       "        pk                       name\n",
       "0        1              &OtherStories\n",
       "1        2    06130ZéroSixCent-Trente\n",
       "2        3                10CorsoComo\n",
       "3        4  10PercentConsumerProducts\n",
       "4        5                1000Flowers\n",
       "...    ...                        ...\n",
       "3251  3252             vonEusersdorff\n",
       "3252  3253             vonSierstorpff\n",
       "3253  3254               ÁguadeCheiro\n",
       "3254  3255                ÉditionsM.R\n",
       "3255  3256                    Élisire\n",
       "\n",
       "[3256 rows x 2 columns]"
      ]
     },
     "execution_count": 4,
     "metadata": {},
     "output_type": "execute_result"
    }
   ],
   "source": [
    "brand = brand[['pk', 'name']]\n",
    "brand"
   ]
  },
  {
   "cell_type": "code",
   "execution_count": 5,
   "metadata": {},
   "outputs": [],
   "source": [
    "# ['pk', 'name', thumbnail, brand(str), price]\n",
    "cat1_r = pd.read_csv('../data/category1_result.csv', index_col =0)\n",
    "cat8_r = pd.read_csv('../data/category8_result.csv', index_col =0)\n",
    "cat10_r = pd.read_csv('../data/category10_result.csv', index_col =0)\n",
    "\n",
    "cat1_r = cat1_r.reset_index(drop=True)\n",
    "cat8_r = cat8_r.reset_index(drop=True)\n",
    "cat10_r = cat10_r.reset_index(drop=True)\n",
    "\n",
    "def brand_convert(df):\n",
    "    for i in range(0,3):\n",
    "        for j in range(len(brand)):\n",
    "            if df['brand'][i] ==  brand['pk'][j]:\n",
    "                df['brand'][i] = brand['name'][j]\n",
    "    "
   ]
  },
  {
   "cell_type": "code",
   "execution_count": 6,
   "metadata": {},
   "outputs": [
    {
     "name": "stderr",
     "output_type": "stream",
     "text": [
      "C:\\Users\\Playdata\\AppData\\Local\\Temp\\ipykernel_4680\\665098662.py:14: SettingWithCopyWarning: \n",
      "A value is trying to be set on a copy of a slice from a DataFrame\n",
      "\n",
      "See the caveats in the documentation: https://pandas.pydata.org/pandas-docs/stable/user_guide/indexing.html#returning-a-view-versus-a-copy\n",
      "  df['brand'][i] = brand['name'][j]\n"
     ]
    }
   ],
   "source": [
    "for df in [cat1_r, cat8_r, cat10_r]:\n",
    "    brand_convert(df)\n",
    "cat1_r = cat1_r[['pk', 'name', 'thumbnail', 'brand', 'price']]\n",
    "cat8_r = cat8_r[['pk', 'name', 'thumbnail', 'brand', 'price']]\n",
    "cat10_r = cat10_r[['pk', 'name', 'thumbnail', 'brand', 'price']]"
   ]
  },
  {
   "cell_type": "code",
   "execution_count": 8,
   "metadata": {},
   "outputs": [],
   "source": [
    "cat1_r.to_csv('../data/cat1_result.csv')\n",
    "cat8_r.to_csv('../data/cat8_result.csv')\n",
    "cat10_r.to_csv('../data/cat10_result.csv')"
   ]
  },
  {
   "cell_type": "code",
   "execution_count": null,
   "metadata": {},
   "outputs": [],
   "source": []
  }
 ],
 "metadata": {
  "kernelspec": {
   "display_name": "base",
   "language": "python",
   "name": "python3"
  },
  "language_info": {
   "codemirror_mode": {
    "name": "ipython",
    "version": 3
   },
   "file_extension": ".py",
   "mimetype": "text/x-python",
   "name": "python",
   "nbconvert_exporter": "python",
   "pygments_lexer": "ipython3",
   "version": "3.10.9"
  },
  "orig_nbformat": 4
 },
 "nbformat": 4,
 "nbformat_minor": 2
}
